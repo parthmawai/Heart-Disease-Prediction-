{
 "cells": [
  {
   "cell_type": "code",
   "execution_count": 1,
   "metadata": {},
   "outputs": [],
   "source": [
    "import pandas as pd\n",
    "import numpy as np\n",
    "import seaborn as sns\n",
    "import matplotlib.pyplot as plt\n",
    "from sklearn.preprocessing import StandardScaler\n"
   ]
  },
  {
   "cell_type": "code",
   "execution_count": 2,
   "metadata": {},
   "outputs": [],
   "source": [
    "\n",
    "# Load the dataset\n",
    "column_names = [\"age\", \"sex\", \"cp\", \"trestbps\", \"chol\", \"fbs\", \"restecg\", \"thalach\", \"exang\", \"oldpeak\", \"slope\", \"ca\", \"thal\", \"target\"]\n",
    "df = pd.read_csv(\"heart_disease_uci.csv\", names=column_names, header=0)\n"
   ]
  },
  {
   "cell_type": "code",
   "execution_count": 3,
   "metadata": {},
   "outputs": [
    {
     "name": "stdout",
     "output_type": "stream",
     "text": [
      "Replaced '?' with NaN:\n",
      "         age        sex               cp  trestbps   chol    fbs  \\\n",
      "1 63    Male  Cleveland   typical angina     145.0  233.0   True   \n",
      "2 67    Male  Cleveland     asymptomatic     160.0  286.0  False   \n",
      "3 67    Male  Cleveland     asymptomatic     120.0  229.0  False   \n",
      "4 37    Male  Cleveland      non-anginal     130.0  250.0  False   \n",
      "5 41  Female  Cleveland  atypical angina     130.0  204.0  False   \n",
      "\n",
      "             restecg  thalach  exang  oldpeak        slope   ca  \\\n",
      "1 63  lv hypertrophy    150.0  False      2.3  downsloping  0.0   \n",
      "2 67  lv hypertrophy    108.0   True      1.5         flat  3.0   \n",
      "3 67  lv hypertrophy    129.0   True      2.6         flat  2.0   \n",
      "4 37          normal    187.0  False      3.5  downsloping  0.0   \n",
      "5 41  lv hypertrophy    172.0  False      1.4    upsloping  0.0   \n",
      "\n",
      "                   thal  target  \n",
      "1 63       fixed defect       0  \n",
      "2 67             normal       2  \n",
      "3 67  reversable defect       1  \n",
      "4 37             normal       0  \n",
      "5 41             normal       0   \n",
      "\n"
     ]
    }
   ],
   "source": [
    "\n",
    "# Replace '?' with NaN\n",
    "df.replace('?', np.nan, inplace=True)\n",
    "print(\"Replaced '?' with NaN:\")\n",
    "print(df.head(), \"\\n\")\n"
   ]
  },
  {
   "cell_type": "code",
   "execution_count": 4,
   "metadata": {},
   "outputs": [],
   "source": [
    "\n",
    "# Convert necessary columns to numeric, coercing errors to NaN\n",
    "for col in ['age', 'trestbps', 'chol', 'thalach', 'ca', 'thal']:\n",
    "    df[col] = pd.to_numeric(df[col], errors='coerce')\n"
   ]
  },
  {
   "cell_type": "code",
   "execution_count": 5,
   "metadata": {},
   "outputs": [
    {
     "name": "stdout",
     "output_type": "stream",
     "text": [
      "NaN values after conversion:\n",
      "age         920\n",
      "sex           0\n",
      "cp            0\n",
      "trestbps     59\n",
      "chol         30\n",
      "fbs          90\n",
      "restecg       2\n",
      "thalach      55\n",
      "exang        55\n",
      "oldpeak      62\n",
      "slope       309\n",
      "ca          611\n",
      "thal        920\n",
      "target        0\n",
      "dtype: int64 \n",
      "\n"
     ]
    }
   ],
   "source": [
    "\n",
    "# Check for NaN values after conversion\n",
    "print(\"NaN values after conversion:\")\n",
    "print(df.isna().sum(), \"\\n\")\n"
   ]
  },
  {
   "cell_type": "code",
   "execution_count": 6,
   "metadata": {},
   "outputs": [
    {
     "name": "stdout",
     "output_type": "stream",
     "text": [
      "NaN values after filling with mean:\n",
      "age         920\n",
      "sex           0\n",
      "cp            0\n",
      "trestbps      0\n",
      "chol          0\n",
      "fbs          90\n",
      "restecg       2\n",
      "thalach       0\n",
      "exang        55\n",
      "oldpeak       0\n",
      "slope       309\n",
      "ca            0\n",
      "thal        920\n",
      "target        0\n",
      "dtype: int64 \n",
      "\n"
     ]
    }
   ],
   "source": [
    "\n",
    "# Fill NaN values with the mean of each numeric column\n",
    "df.fillna(df.select_dtypes(include=[np.number]).mean(), inplace=True)\n",
    "print(\"NaN values after filling with mean:\")\n",
    "print(df.isna().sum(), \"\\n\")\n",
    "\n"
   ]
  },
  {
   "cell_type": "code",
   "execution_count": 7,
   "metadata": {},
   "outputs": [],
   "source": [
    "\n",
    "# Convert target to binary classification (disease vs. no disease)\n",
    "df['target'] = df['target'].apply(lambda x: 1 if x > 0 else 0)\n"
   ]
  },
  {
   "cell_type": "code",
   "execution_count": 8,
   "metadata": {},
   "outputs": [
    {
     "data": {
      "image/png": "[encoded data removed]",
      "text/plain": [
       "<Figure size 640x480 with 1 Axes>"
      ]
     },
     "metadata": {},
     "output_type": "display_data"
    }
   ],
   "source": [
    "\n",
    "# Visualize the target variable distribution\n",
    "sns.countplot(x='target', data=df)\n",
    "plt.title('Heart Disease Distribution')\n",
    "plt.show()\n"
   ]
  },
  {
   "cell_type": "code",
   "execution_count": 9,
   "metadata": {},
   "outputs": [
    {
     "name": "stdout",
     "output_type": "stream",
     "text": [
      "Filtered DataFrame:\n",
      "      age  trestbps   chol  thalach  target\n",
      "1 63  NaN     145.0  233.0    150.0       0\n",
      "2 67  NaN     160.0  286.0    108.0       1\n",
      "3 67  NaN     120.0  229.0    129.0       1\n",
      "4 37  NaN     130.0  250.0    187.0       0\n",
      "5 41  NaN     130.0  204.0    172.0       0 \n",
      "\n"
     ]
    }
   ],
   "source": [
    "\n",
    "# Keep only the specified columns for further analysis\n",
    "df_filtered = df[['age', 'trestbps', 'chol', 'thalach', 'target']]\n",
    "print(\"Filtered DataFrame:\")\n",
    "print(df_filtered.head(), \"\\n\")\n"
   ]
  },
  {
   "cell_type": "code",
   "execution_count": 10,
   "metadata": {},
   "outputs": [
    {
     "name": "stdout",
     "output_type": "stream",
     "text": [
      "NaN values before normalization:\n",
      "age         920\n",
      "trestbps      0\n",
      "chol          0\n",
      "thalach       0\n",
      "target        0\n",
      "dtype: int64 \n",
      "\n"
     ]
    }
   ],
   "source": [
    "\n",
    "# Check for NaN values before normalization\n",
    "print(\"NaN values before normalization:\")\n",
    "print(df_filtered.isna().sum(), \"\\n\")\n"
   ]
  },
  {
   "cell_type": "code",
   "execution_count": 11,
   "metadata": {},
   "outputs": [
    {
     "name": "stdout",
     "output_type": "stream",
     "text": [
      "DataFrame after normalization:\n",
      "      age  trestbps      chol   thalach  target\n",
      "1 63  NaN  0.698041  0.311021  0.495698       0\n",
      "2 67  NaN  1.511761  0.797713 -1.175955       1\n",
      "3 67  NaN -0.658158  0.274289 -0.340128       1\n",
      "4 37  NaN -0.115679  0.467130  1.968345       0\n",
      "5 41  NaN -0.115679  0.044717  1.371326       0 \n",
      "\n"
     ]
    },
    {
     "name": "stderr",
     "output_type": "stream",
     "text": [
      "C:\\Users\\parth\\AppData\\Local\\Packages\\PythonSoftwareFoundation.Python.3.11_qbz5n2kfra8p0\\LocalCache\\local-packages\\Python311\\site-packages\\sklearn\\utils\\extmath.py:1137: RuntimeWarning: invalid value encountered in divide\n",
      "  updated_mean = (last_sum + new_sum) / updated_sample_count\n",
      "C:\\Users\\parth\\AppData\\Local\\Packages\\PythonSoftwareFoundation.Python.3.11_qbz5n2kfra8p0\\LocalCache\\local-packages\\Python311\\site-packages\\sklearn\\utils\\extmath.py:1142: RuntimeWarning: invalid value encountered in divide\n",
      "  T = new_sum / new_sample_count\n",
      "C:\\Users\\parth\\AppData\\Local\\Packages\\PythonSoftwareFoundation.Python.3.11_qbz5n2kfra8p0\\LocalCache\\local-packages\\Python311\\site-packages\\sklearn\\utils\\extmath.py:1162: RuntimeWarning: invalid value encountered in divide\n",
      "  new_unnormalized_variance -= correction**2 / new_sample_count\n"
     ]
    }
   ],
   "source": [
    "# Normalize only the specified numeric features\n",
    "numeric_features = ['age', 'trestbps', 'chol', 'thalach']\n",
    "scaler = StandardScaler()\n",
    "df_filtered.loc[:, numeric_features] = scaler.fit_transform(df_filtered[numeric_features])\n",
    "print(\"DataFrame after normalization:\")\n",
    "print(df_filtered.head(), \"\\n\")"
   ]
  },
  {
   "cell_type": "code",
   "execution_count": 12,
   "metadata": {},
   "outputs": [
    {
     "data": {
      "image/png": "[encoded data removed]",
      "text/plain": [
       "<Figure size 800x600 with 2 Axes>"
      ]
     },
     "metadata": {},
     "output_type": "display_data"
    }
   ],
   "source": [
    "# Visualizing the correlation matrix\n",
    "plt.figure(figsize=(8, 6))\n",
    "sns.heatmap(df_filtered.corr(), annot=True, cmap=\"coolwarm\")\n",
    "plt.title('Correlation Matrix (Filtered)')\n",
    "plt.show()"
   ]
  }
 ],
 "metadata": {
  "kernelspec": {
   "display_name": "Python 3",
   "language": "python",
   "name": "python3"
  },
  "language_info": {
   "codemirror_mode": {
    "name": "ipython",
    "version": 3
   },
   "file_extension": ".py",
   "mimetype": "text/x-python",
   "name": "python",
   "nbconvert_exporter": "python",
   "pygments_lexer": "ipython3",
   "version": "3.11.9"
  }
 },
 "nbformat": 4,
 "nbformat_minor": 2
}
